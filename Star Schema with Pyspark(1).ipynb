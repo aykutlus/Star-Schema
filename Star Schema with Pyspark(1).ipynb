{
 "cells": [
  {
   "cell_type": "code",
   "execution_count": 1,
   "metadata": {},
   "outputs": [],
   "source": [
    "# Import required libraries\n",
    "\n",
    "from pyspark.sql import SparkSession, functions as F\n",
    "from pyspark.sql.types import *\n",
    "from pyspark.sql import SQLContext\n",
    "%matplotlib inline\n",
    "import matplotlib.pyplot as plt\n",
    "import pandas as pd\n",
    "import numpy as np\n",
    "from pyspark.sql.functions import *\n",
    "from pyspark.sql.window import Window"
   ]
  },
  {
   "cell_type": "code",
   "execution_count": 2,
   "metadata": {},
   "outputs": [],
   "source": [
    "# Set spark session\n",
    "\n",
    "spark_session = SparkSession.builder \\\n",
    "          .getOrCreate()"
   ]
  },
  {
   "cell_type": "code",
   "execution_count": 3,
   "metadata": {},
   "outputs": [],
   "source": [
    "# Create struct schema and load data\n",
    "\n",
    "schema = StructType([StructField(\"InvoiceID\", StringType(),True), \\\n",
    "                    StructField(\"Branch\", StringType(), False),\n",
    "                    StructField(\"City\", StringType(),False), \\\n",
    "                    StructField(\"Customer\", StringType(), False), \\\n",
    "                    StructField(\"Gender\", StringType(),False), \\\n",
    "                    StructField(\"ProductLine\", StringType(), False), \\\n",
    "                    StructField(\"UnitPrice\", DoubleType(),False), \\\n",
    "                    StructField(\"Quantity\", IntegerType(), False),\\\n",
    "                    StructField(\"Tax\", DoubleType(), False), \\\n",
    "                    StructField(\"Sales\", DoubleType(),False), \\\n",
    "                    StructField(\"Date_\", StringType(), True), \\\n",
    "                    StructField(\"Time_\", StringType(),False), \\\n",
    "                    StructField(\"Payment\", StringType(), False), \\\n",
    "                    StructField(\"cog\", DoubleType(),False), \\\n",
    "                    StructField(\"grossMargin\", DoubleType(), False),\\\n",
    "                    StructField(\"grossIncome\", DoubleType(), False), \\\n",
    "                    StructField(\"rating\", DoubleType(),False)] )\n"
   ]
  },
  {
   "cell_type": "code",
   "execution_count": 4,
   "metadata": {},
   "outputs": [],
   "source": [
    "dataset = spark_session.read.csv(\n",
    "        path=\"/home/master/Descargas/supermarketsales.csv\",\n",
    "        sep=\",\",\n",
    "        header=True,\n",
    "        schema=schema)"
   ]
  },
  {
   "cell_type": "code",
   "execution_count": 5,
   "metadata": {},
   "outputs": [
    {
     "name": "stdout",
     "output_type": "stream",
     "text": [
      "+-----------+------+---------+--------+------+--------------------+---------+--------+-------+--------+--------+-----+-------+------+-----------+-----------+------+\n",
      "|  InvoiceID|Branch|     City|Customer|Gender|         ProductLine|UnitPrice|Quantity|    Tax|   Sales|   Date_|Time_|Payment|   cog|grossMargin|grossIncome|rating|\n",
      "+-----------+------+---------+--------+------+--------------------+---------+--------+-------+--------+--------+-----+-------+------+-----------+-----------+------+\n",
      "|750-67-8428|     A|   Yangon|  Member|Female|   Health and beauty|    74.69|       7|26.1415|548.9715|1/5/2019|13:08|Ewallet|522.83|4.761904762|    26.1415|   9.1|\n",
      "|226-31-3081|     C|Naypyitaw|  Normal|Female|Electronic access...|    15.28|       5|   3.82|   80.22|3/8/2019|10:29|   Cash|  76.4|4.761904762|       3.82|   9.6|\n",
      "+-----------+------+---------+--------+------+--------------------+---------+--------+-------+--------+--------+-----+-------+------+-----------+-----------+------+\n",
      "only showing top 2 rows\n",
      "\n"
     ]
    }
   ],
   "source": [
    "dataset.show(2)"
   ]
  },
  {
   "cell_type": "code",
   "execution_count": 6,
   "metadata": {},
   "outputs": [
    {
     "name": "stdout",
     "output_type": "stream",
     "text": [
      "root\n",
      " |-- InvoiceID: string (nullable = true)\n",
      " |-- Branch: string (nullable = true)\n",
      " |-- City: string (nullable = true)\n",
      " |-- Customer: string (nullable = true)\n",
      " |-- Gender: string (nullable = true)\n",
      " |-- ProductLine: string (nullable = true)\n",
      " |-- UnitPrice: double (nullable = true)\n",
      " |-- Quantity: integer (nullable = true)\n",
      " |-- Tax: double (nullable = true)\n",
      " |-- Sales: double (nullable = true)\n",
      " |-- Date_: string (nullable = true)\n",
      " |-- Time_: string (nullable = true)\n",
      " |-- Payment: string (nullable = true)\n",
      " |-- cog: double (nullable = true)\n",
      " |-- grossMargin: double (nullable = true)\n",
      " |-- grossIncome: double (nullable = true)\n",
      " |-- rating: double (nullable = true)\n",
      "\n"
     ]
    }
   ],
   "source": [
    "dataset.printSchema()"
   ]
  },
  {
   "cell_type": "code",
   "execution_count": 7,
   "metadata": {},
   "outputs": [
    {
     "name": "stdout",
     "output_type": "stream",
     "text": [
      "+-----------+----------+\n",
      "|    Payment|PaymentKey|\n",
      "+-----------+----------+\n",
      "|    Ewallet|         1|\n",
      "|       Cash|         2|\n",
      "|Credit card|         3|\n",
      "+-----------+----------+\n",
      "\n"
     ]
    }
   ],
   "source": [
    "# Create payment dimension\n",
    "\n",
    "DimPayment = dataset.select(\"Payment\").distinct().withColumn(\"PaymentKey\", row_number().over(Window.orderBy(monotonically_increasing_id())))\n",
    "DimPayment.show()"
   ]
  },
  {
   "cell_type": "code",
   "execution_count": 8,
   "metadata": {},
   "outputs": [
    {
     "name": "stdout",
     "output_type": "stream",
     "text": [
      "+--------+------+-----------+\n",
      "|Customer|Gender|CustomerKey|\n",
      "+--------+------+-----------+\n",
      "|  Normal|  Male|          1|\n",
      "|  Member|  Male|          2|\n",
      "|  Normal|Female|          3|\n",
      "|  Member|Female|          4|\n",
      "+--------+------+-----------+\n",
      "\n"
     ]
    }
   ],
   "source": [
    "# Create customer dimension\n",
    "\n",
    "DimCustomer = dataset.select(\"Customer\",\"Gender\").distinct().withColumn(\"CustomerKey\", row_number().over(Window.orderBy(monotonically_increasing_id())))\n",
    "DimCustomer.show()"
   ]
  },
  {
   "cell_type": "code",
   "execution_count": 9,
   "metadata": {},
   "outputs": [
    {
     "name": "stdout",
     "output_type": "stream",
     "text": [
      "+------+---------+---------+\n",
      "|Branch|     City|BranchKey|\n",
      "+------+---------+---------+\n",
      "|     B| Mandalay|        1|\n",
      "|     C|Naypyitaw|        2|\n",
      "|     A|   Yangon|        3|\n",
      "+------+---------+---------+\n",
      "\n"
     ]
    }
   ],
   "source": [
    "# Create branch dimension\n",
    "\n",
    "DimBranch = dataset.select(\"Branch\",\"City\").distinct().withColumn(\"BranchKey\", row_number().over(Window.orderBy(monotonically_increasing_id())))\n",
    "DimBranch.show()"
   ]
  },
  {
   "cell_type": "code",
   "execution_count": 10,
   "metadata": {},
   "outputs": [
    {
     "name": "stdout",
     "output_type": "stream",
     "text": [
      "+--------------------+----------+\n",
      "|         ProductLine|ProductKey|\n",
      "+--------------------+----------+\n",
      "|  Home and lifestyle|         1|\n",
      "| Fashion accessories|         2|\n",
      "|   Health and beauty|         3|\n",
      "|Electronic access...|         4|\n",
      "|  Food and beverages|         5|\n",
      "|   Sports and travel|         6|\n",
      "+--------------------+----------+\n",
      "\n"
     ]
    }
   ],
   "source": [
    "# Create productline dimension\n",
    "\n",
    "DimProductLine = dataset.select(\"ProductLine\").distinct().withColumn(\"ProductKey\", row_number().over(Window.orderBy(monotonically_increasing_id())))\n",
    "DimProductLine.show()"
   ]
  },
  {
   "cell_type": "code",
   "execution_count": 11,
   "metadata": {},
   "outputs": [
    {
     "name": "stdout",
     "output_type": "stream",
     "text": [
      "+----------+---------+---+-----+------------+---------+--------+----------+---------+-------+----+-----------+--------+---------+\n",
      "|      Date| Style112|day|month|FirstOfMonth|MonthName| DayName|WeekOfYear|DayOfWeek|quarter|year|FirstOfYear| DateKey|IsWeekend|\n",
      "+----------+---------+---+-----+------------+---------+--------+----------+---------+-------+----+-----------+--------+---------+\n",
      "|2019-02-19|2/19/2019| 19|    2|  2019-02-01| February| Tuesday|         8|        3|      1|2019| 2019-01-01|20190219|        0|\n",
      "|2019-03-17|3/17/2019| 17|    3|  2019-03-01|    March|  Sunday|        11|        1|      1|2019| 2019-01-01|20190317|        1|\n",
      "|2019-03-29|3/29/2019| 29|    3|  2019-03-01|    March|  Friday|        13|        6|      1|2019| 2019-01-01|20190329|        0|\n",
      "|2019-03-07| 3/7/2019|  7|    3|  2019-03-01|    March|Thursday|        10|        5|      1|2019| 2019-01-01|20190307|        0|\n",
      "|2019-03-01| 3/1/2019|  1|    3|  2019-03-01|    March|  Friday|         9|        6|      1|2019| 2019-01-01|20190301|        0|\n",
      "+----------+---------+---+-----+------------+---------+--------+----------+---------+-------+----+-----------+--------+---------+\n",
      "only showing top 5 rows\n",
      "\n",
      "root\n",
      " |-- Date: date (nullable = true)\n",
      " |-- Style112: string (nullable = true)\n",
      " |-- day: integer (nullable = true)\n",
      " |-- month: integer (nullable = true)\n",
      " |-- FirstOfMonth: date (nullable = true)\n",
      " |-- MonthName: string (nullable = true)\n",
      " |-- DayName: string (nullable = true)\n",
      " |-- WeekOfYear: integer (nullable = true)\n",
      " |-- DayOfWeek: integer (nullable = true)\n",
      " |-- quarter: integer (nullable = true)\n",
      " |-- year: integer (nullable = true)\n",
      " |-- FirstOfYear: date (nullable = true)\n",
      " |-- DateKey: integer (nullable = true)\n",
      " |-- IsWeekend: integer (nullable = false)\n",
      "\n"
     ]
    }
   ],
   "source": [
    "#Create date dimension and its additions\n",
    "\n",
    "Date= dataset.select(to_date(dataset.Date_,\"MM/dd/yyyy\").alias(\"Date\"),dataset.Date_.alias(\"Style112\")).distinct()\n",
    "DimDate= Date.select(\"Date\", \"Style112\",\\\n",
    "                     dayofmonth(\"Date\").alias('day'),\\\n",
    "                     month(\"Date\").alias('month') , \\\n",
    "                     F.trunc((\"Date\"),\"Month\").alias(\"FirstOfMonth\"), \\\n",
    "                     date_format(Date.Date,\"MMMM\").alias(\"MonthName\") , \\\n",
    "                     date_format(Date.Date,\"EEEE\").alias(\"DayName\") , \\\n",
    "                     weekofyear(\"Date\").alias('WeekOfYear'),\\\n",
    "                     dayofweek(\"Date\").alias('DayOfWeek'),\\\n",
    "                     quarter(\"Date\").alias('quarter') , \\\n",
    "                     year(\"Date\").alias('year') , \\\n",
    "                     F.trunc((\"Date\"),\"Year\").alias(\"FirstOfYear\")) \\\n",
    "                    .withColumn(\"DateKey\",regexp_replace(col(\"Date\"),\"-\",\"\").cast(IntegerType())) \n",
    "      \n",
    "DimDate = DimDate.withColumn(\"IsWeekend\",F.when(DimDate.DayName ==\"Saturday\",1)\\\n",
    "                                        .when(DimDate.DayName ==\"Sunday\",1)\\\n",
    "                                        .otherwise(0))\n",
    "DimDate.show(5)\n",
    "DimDate.printSchema()"
   ]
  },
  {
   "cell_type": "code",
   "execution_count": 12,
   "metadata": {},
   "outputs": [
    {
     "name": "stdout",
     "output_type": "stream",
     "text": [
      "+-------------------+----------+-------+\n",
      "|               Time|TimeString|TimeKey|\n",
      "+-------------------+----------+-------+\n",
      "|1970-01-01 10:37:00|     10:37|      1|\n",
      "|1970-01-01 11:36:00|     11:36|      2|\n",
      "|1970-01-01 17:49:00|     17:49|      3|\n",
      "|1970-01-01 18:58:00|     18:58|      4|\n",
      "|1970-01-01 10:36:00|     10:36|      5|\n",
      "|1970-01-01 19:35:00|     19:35|      6|\n",
      "|1970-01-01 20:33:00|     20:33|      7|\n",
      "|1970-01-01 20:44:00|     20:44|      8|\n",
      "|1970-01-01 19:54:00|     19:54|      9|\n",
      "|1970-01-01 12:08:00|     12:08|     10|\n",
      "|1970-01-01 16:49:00|     16:49|     11|\n",
      "|1970-01-01 11:22:00|     11:22|     12|\n",
      "|1970-01-01 20:35:00|     20:35|     13|\n",
      "|1970-01-01 13:14:00|     13:14|     14|\n",
      "|1970-01-01 18:37:00|     18:37|     15|\n",
      "|1970-01-01 15:24:00|     15:24|     16|\n",
      "|1970-01-01 11:00:00|     11:00|     17|\n",
      "|1970-01-01 10:26:00|     10:26|     18|\n",
      "|1970-01-01 13:10:00|     13:10|     19|\n",
      "|1970-01-01 11:16:00|     11:16|     20|\n",
      "+-------------------+----------+-------+\n",
      "only showing top 20 rows\n",
      "\n"
     ]
    }
   ],
   "source": [
    "#Create time dimension\n",
    "\n",
    "time = dataset.select(from_unixtime(unix_timestamp(dataset.Time_,\"HH:mm\")).alias(\"Time\"),dataset.Time_.alias(\"TimeString\")).distinct()\n",
    "DimTime=time.withColumn(\"TimeKey\", row_number().over(Window.orderBy(monotonically_increasing_id())))\n",
    "DimTime.show()"
   ]
  },
  {
   "cell_type": "code",
   "execution_count": 13,
   "metadata": {},
   "outputs": [
    {
     "name": "stdout",
     "output_type": "stream",
     "text": [
      "+----------+--------+-------+----------+---------+-----------+-----------+---------+--------+-------+------+-----------+-----------+------+\n",
      "|PaymentKey| DateKey|TimeKey|ProductKey|BranchKey|CustomerKey|  InvoiceID|UnitPrice|Quantity|    Tax|   cog|grossMargin|grossIncome|rating|\n",
      "+----------+--------+-------+----------+---------+-----------+-----------+---------+--------+-------+------+-----------+-----------+------+\n",
      "|         1|20190105|    345|         3|        3|          4|750-67-8428|    74.69|       7|26.1415|522.83|4.761904762|    26.1415|   9.1|\n",
      "|         2|20190308|     68|         4|        2|          3|226-31-3081|    15.28|       5|   3.82|  76.4|4.761904762|       3.82|   9.6|\n",
      "|         3|20190303|     22|         1|        3|          1|631-41-3108|    46.33|       7|16.2155|324.31|4.761904762|    16.2155|   7.4|\n",
      "|         1|20190127|      7|         3|        3|          2|123-19-1176|    58.22|       8| 23.288|465.76|4.761904762|     23.288|   8.4|\n",
      "|         1|20190208|      1|         6|        3|          1|373-73-7910|    86.31|       7|30.2085|604.17|4.761904762|    30.2085|   5.3|\n",
      "+----------+--------+-------+----------+---------+-----------+-----------+---------+--------+-------+------+-----------+-----------+------+\n",
      "only showing top 5 rows\n",
      "\n"
     ]
    }
   ],
   "source": [
    "#Create fact table\n",
    "\n",
    "FactSales = dataset.join(DimPayment,dataset[\"Payment\"] == DimPayment[\"Payment\"]) \\\n",
    "                .join(DimProductLine,dataset[\"ProductLine\"] == DimProductLine[\"ProductLine\"])  \\\n",
    "               .join(DimBranch, (dataset[\"Branch\"] == DimBranch[\"Branch\"])&(dataset[\"City\"] == DimBranch[\"City\"]) )  \\\n",
    "               .join(DimCustomer, (dataset[\"Customer\"] == DimCustomer[\"Customer\"])&(dataset[\"Gender\"] == DimCustomer[\"Gender\"]))\\\n",
    "               .join(DimDate,dataset[\"Date_\"] == DimDate[\"Style112\"]) \\\n",
    "               .join(DimTime,dataset[\"Time_\"] == DimTime[\"TimeString\"])  \\\n",
    "               .select(\"PaymentKey\",\"DateKey\",\"TimeKey\",\"ProductKey\",\"BranchKey\",\"CustomerKey\",\n",
    "                       \"InvoiceID\",\"UnitPrice\",\"Quantity\",\"Tax\",\"cog\",\"grossMargin\",\"grossIncome\",\"rating\")\n",
    "\n",
    "\n",
    "FactSales.show(5)"
   ]
  },
  {
   "cell_type": "code",
   "execution_count": 14,
   "metadata": {},
   "outputs": [
    {
     "data": {
      "text/html": [
       "<div>\n",
       "<style scoped>\n",
       "    .dataframe tbody tr th:only-of-type {\n",
       "        vertical-align: middle;\n",
       "    }\n",
       "\n",
       "    .dataframe tbody tr th {\n",
       "        vertical-align: top;\n",
       "    }\n",
       "\n",
       "    .dataframe thead th {\n",
       "        text-align: right;\n",
       "    }\n",
       "</style>\n",
       "<table border=\"1\" class=\"dataframe\">\n",
       "  <thead>\n",
       "    <tr style=\"text-align: right;\">\n",
       "      <th></th>\n",
       "      <th>PaymentKey</th>\n",
       "      <th>DateKey</th>\n",
       "      <th>TimeKey</th>\n",
       "      <th>ProductKey</th>\n",
       "      <th>BranchKey</th>\n",
       "      <th>CustomerKey</th>\n",
       "      <th>InvoiceID</th>\n",
       "      <th>UnitPrice</th>\n",
       "      <th>Quantity</th>\n",
       "      <th>Tax</th>\n",
       "      <th>cog</th>\n",
       "      <th>grossMargin</th>\n",
       "      <th>grossIncome</th>\n",
       "      <th>rating</th>\n",
       "    </tr>\n",
       "  </thead>\n",
       "  <tbody>\n",
       "    <tr>\n",
       "      <th>0</th>\n",
       "      <td>1</td>\n",
       "      <td>20190105</td>\n",
       "      <td>345</td>\n",
       "      <td>3</td>\n",
       "      <td>3</td>\n",
       "      <td>4</td>\n",
       "      <td>750-67-8428</td>\n",
       "      <td>74.69</td>\n",
       "      <td>7</td>\n",
       "      <td>26.1415</td>\n",
       "      <td>522.83</td>\n",
       "      <td>4.761905</td>\n",
       "      <td>26.1415</td>\n",
       "      <td>9.1</td>\n",
       "    </tr>\n",
       "    <tr>\n",
       "      <th>1</th>\n",
       "      <td>2</td>\n",
       "      <td>20190308</td>\n",
       "      <td>68</td>\n",
       "      <td>4</td>\n",
       "      <td>2</td>\n",
       "      <td>3</td>\n",
       "      <td>226-31-3081</td>\n",
       "      <td>15.28</td>\n",
       "      <td>5</td>\n",
       "      <td>3.8200</td>\n",
       "      <td>76.40</td>\n",
       "      <td>4.761905</td>\n",
       "      <td>3.8200</td>\n",
       "      <td>9.6</td>\n",
       "    </tr>\n",
       "    <tr>\n",
       "      <th>2</th>\n",
       "      <td>3</td>\n",
       "      <td>20190303</td>\n",
       "      <td>22</td>\n",
       "      <td>1</td>\n",
       "      <td>3</td>\n",
       "      <td>1</td>\n",
       "      <td>631-41-3108</td>\n",
       "      <td>46.33</td>\n",
       "      <td>7</td>\n",
       "      <td>16.2155</td>\n",
       "      <td>324.31</td>\n",
       "      <td>4.761905</td>\n",
       "      <td>16.2155</td>\n",
       "      <td>7.4</td>\n",
       "    </tr>\n",
       "    <tr>\n",
       "      <th>3</th>\n",
       "      <td>1</td>\n",
       "      <td>20190127</td>\n",
       "      <td>7</td>\n",
       "      <td>3</td>\n",
       "      <td>3</td>\n",
       "      <td>2</td>\n",
       "      <td>123-19-1176</td>\n",
       "      <td>58.22</td>\n",
       "      <td>8</td>\n",
       "      <td>23.2880</td>\n",
       "      <td>465.76</td>\n",
       "      <td>4.761905</td>\n",
       "      <td>23.2880</td>\n",
       "      <td>8.4</td>\n",
       "    </tr>\n",
       "    <tr>\n",
       "      <th>4</th>\n",
       "      <td>1</td>\n",
       "      <td>20190208</td>\n",
       "      <td>1</td>\n",
       "      <td>6</td>\n",
       "      <td>3</td>\n",
       "      <td>1</td>\n",
       "      <td>373-73-7910</td>\n",
       "      <td>86.31</td>\n",
       "      <td>7</td>\n",
       "      <td>30.2085</td>\n",
       "      <td>604.17</td>\n",
       "      <td>4.761905</td>\n",
       "      <td>30.2085</td>\n",
       "      <td>5.3</td>\n",
       "    </tr>\n",
       "  </tbody>\n",
       "</table>\n",
       "</div>"
      ],
      "text/plain": [
       "   PaymentKey   DateKey  TimeKey  ProductKey  BranchKey  CustomerKey  \\\n",
       "0           1  20190105      345           3          3            4   \n",
       "1           2  20190308       68           4          2            3   \n",
       "2           3  20190303       22           1          3            1   \n",
       "3           1  20190127        7           3          3            2   \n",
       "4           1  20190208        1           6          3            1   \n",
       "\n",
       "     InvoiceID  UnitPrice  Quantity      Tax     cog  grossMargin  \\\n",
       "0  750-67-8428      74.69         7  26.1415  522.83     4.761905   \n",
       "1  226-31-3081      15.28         5   3.8200   76.40     4.761905   \n",
       "2  631-41-3108      46.33         7  16.2155  324.31     4.761905   \n",
       "3  123-19-1176      58.22         8  23.2880  465.76     4.761905   \n",
       "4  373-73-7910      86.31         7  30.2085  604.17     4.761905   \n",
       "\n",
       "   grossIncome  rating  \n",
       "0      26.1415     9.1  \n",
       "1       3.8200     9.6  \n",
       "2      16.2155     7.4  \n",
       "3      23.2880     8.4  \n",
       "4      30.2085     5.3  "
      ]
     },
     "execution_count": 14,
     "metadata": {},
     "output_type": "execute_result"
    }
   ],
   "source": [
    "FactSales.toPandas().head()"
   ]
  },
  {
   "cell_type": "code",
   "execution_count": 15,
   "metadata": {},
   "outputs": [],
   "source": [
    "sqlContext = SQLContext(spark_session)\n",
    "sqlContext.registerDataFrameAsTable(FactSales,\"FactTable\")\n",
    "sqlContext.registerDataFrameAsTable(DimDate,\"DimDate\")\n",
    "sqlContext.registerDataFrameAsTable(DimTime,\"DimTime\")\n",
    "sqlContext.registerDataFrameAsTable(DimProductLine,\"DimProductLine\")\n",
    "sqlContext.registerDataFrameAsTable(DimBranch,\"DimBranch\")\n",
    "sqlContext.registerDataFrameAsTable(DimCustomer,\"DimCustomer\")\n",
    "sqlContext.registerDataFrameAsTable(DimPayment,\"DimPayment\")"
   ]
  },
  {
   "cell_type": "code",
   "execution_count": 16,
   "metadata": {},
   "outputs": [
    {
     "name": "stdout",
     "output_type": "stream",
     "text": [
      "+--------+--------------+-----------+\n",
      "|database|     tableName|isTemporary|\n",
      "+--------+--------------+-----------+\n",
      "|        |     dimbranch|       true|\n",
      "|        |   dimcustomer|       true|\n",
      "|        |       dimdate|       true|\n",
      "|        |    dimpayment|       true|\n",
      "|        |dimproductline|       true|\n",
      "|        |       dimtime|       true|\n",
      "|        |     facttable|       true|\n",
      "+--------+--------------+-----------+\n",
      "\n"
     ]
    }
   ],
   "source": [
    "sqlContext.tables().show()"
   ]
  },
  {
   "cell_type": "code",
   "execution_count": null,
   "metadata": {},
   "outputs": [],
   "source": []
  }
 ],
 "metadata": {
  "kernelspec": {
   "display_name": "Python 3",
   "language": "python",
   "name": "python3"
  },
  "language_info": {
   "codemirror_mode": {
    "name": "ipython",
    "version": 3
   },
   "file_extension": ".py",
   "mimetype": "text/x-python",
   "name": "python",
   "nbconvert_exporter": "python",
   "pygments_lexer": "ipython3",
   "version": "3.7.7"
  }
 },
 "nbformat": 4,
 "nbformat_minor": 2
}
